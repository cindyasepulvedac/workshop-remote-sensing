{
  "cells": [
    {
      "cell_type": "markdown",
      "metadata": {
        "id": "view-in-github",
        "colab_type": "text"
      },
      "source": [
        "<a href=\"https://colab.research.google.com/github/cindyasepulvedac/workshop-remote-sensing/blob/main/Remote_Sensing_Camp.ipynb\" target=\"_parent\"><img src=\"https://colab.research.google.com/assets/colab-badge.svg\" alt=\"Open In Colab\"/></a>"
      ]
    },
    {
      "cell_type": "markdown",
      "id": "smart-bracket",
      "metadata": {
        "id": "smart-bracket"
      },
      "source": [
        "# Introduction to Remote Sensing with Python\n",
        "\n",
        ">\"...the time is now right and urgent to apply space technology towards the solution of many pressing natural resources problems being compounded by population and industrial growth.\"\n",
        "\n",
        "- [Stewart Udall, Secretary of the Interior, September 21, 1966](https://prd-wret.s3-us-west-2.amazonaws.com/assets/palladium/production/s3fs-public/atoms/files/1966.09.21-DOI-Udall-Earth%20Resources%20Studied%20From%20Space.pdf)"
      ]
    },
    {
      "cell_type": "markdown",
      "id": "continuous-screen",
      "metadata": {
        "id": "continuous-screen"
      },
      "source": [
        "## A remote sensing crash course\n",
        "\n",
        "<img src=\"https://github.com/yohman/workshop-remote-sensing/blob/main/images/remote.png?raw=1\" width=600>\n",
        "\n",
        "https://youtu.be/DGE-N8_LQBo\n"
      ]
    },
    {
      "cell_type": "markdown",
      "id": "modified-delay",
      "metadata": {
        "id": "modified-delay"
      },
      "source": [
        "## Landsat\n",
        "\n",
        "Landsat is the first \"civilian Earth observation satellite\" launched in 1972, a collaboration between the Department of the Interior, NASA, and the Department of Agriculture.\n",
        "\n",
        "At over 40 years, the Landsat series of satellites provides the longest temporal record of moderate resolution multispectral data of the Earth’s surface on a global basis. The Landsat record has remained remarkably unbroken, proving a unique resource to assist a broad range of specialists in managing the world’s food, water, forests, and other natural resources for a growing world population. It is a record unmatched in quality, detail, coverage, and value. Source: USGS\n",
        "\n",
        "- [NASA's Landsat page](https://www.nasa.gov/mission_pages/landsat/overview/index.html)\n",
        "- [USGS's Landsat page](https://www.usgs.gov/core-science-systems/nli/landsat)"
      ]
    },
    {
      "cell_type": "markdown",
      "id": "musical-edgar",
      "metadata": {
        "id": "musical-edgar"
      },
      "source": [
        "<img src=\"https://prd-wret.s3.us-west-2.amazonaws.com/assets/palladium/production/s3fs-public/styles/full_width/public/thumbnails/image/5262-Landsat-timeline-FNL-2.jpg\">"
      ]
    },
    {
      "cell_type": "markdown",
      "id": "particular-particular",
      "metadata": {
        "id": "particular-particular"
      },
      "source": [
        "## How to access landsat data\n",
        "\n",
        "- [USGS Earth Explorer](https://earthexplorer.usgs.gov/)\n",
        "- [Amazon AWS Open Data](https://registry.opendata.aws/landsat-8/)\n",
        "- [Google Earth Engine](https://developers.google.com/earth-engine/datasets/catalog/landsat-8)"
      ]
    },
    {
      "cell_type": "markdown",
      "id": "ethical-submission",
      "metadata": {
        "id": "ethical-submission"
      },
      "source": [
        "## Finding satellite image of the 2018 Camp Fire \n",
        "\n",
        "<img src=\"https://upload.wikimedia.org/wikipedia/commons/thumb/b/b1/Camp_Fire_oli_2018312_Landsat.jpg/800px-Camp_Fire_oli_2018312_Landsat.jpg\">\n",
        "\n",
        "The Camp Fire was the deadliest and most destructive wildfire in California's history, and the most expensive natural disaster in the world in 2018 in terms of insured losses.\n",
        "\n",
        "- https://en.wikipedia.org/wiki/Camp_Fire_(2018)"
      ]
    },
    {
      "cell_type": "markdown",
      "id": "37443f52-1d21-4b3d-b3f3-aab89793cb31",
      "metadata": {
        "id": "37443f52-1d21-4b3d-b3f3-aab89793cb31"
      },
      "source": [
        "### Google Earth Preview\n",
        "\n",
        "Before we begin our Python exploration, let us situate ourselves with Google Earth.\n",
        "\n",
        "<img src=\"https://github.com/yohman/workshop-remote-sensing/blob/main/images/camp.png?raw=1\">\n",
        "\n",
        "<a href=\"Camp.kmz\">Google Earth File</a>"
      ]
    },
    {
      "cell_type": "markdown",
      "id": "advised-victoria",
      "metadata": {
        "id": "advised-victoria"
      },
      "source": [
        "### The Workflow\n",
        "\n",
        "In this lab, we will do the following:\n",
        "\n",
        "- Use Google Earth Engine's Python API\n",
        "- define an AOI (area of interest) in the Northern California's Butte County\n",
        "- import multiple Landsat images from the dates before and after the Camp Fire\n",
        "- determine which images are best for analysis\n",
        "- create various NDVI map outputs to assess the amount of fire damage"
      ]
    },
    {
      "cell_type": "markdown",
      "id": "48fbfb00-d418-463f-bed3-055732373b23",
      "metadata": {
        "id": "48fbfb00-d418-463f-bed3-055732373b23"
      },
      "source": [
        "## Python libraries in this workshop\n",
        "\n",
        "- [pandas](https://pandas.pydata.org/docs/getting_started/index.html)\n",
        "- [geopandas](https://geopandas.org/en/stable/gallery/index.html)\n",
        "- [google earth engine](https://developers.google.com/earth-engine/tutorials/community/intro-to-python-api-guiattard)\n"
      ]
    },
    {
      "cell_type": "markdown",
      "id": "retired-flash",
      "metadata": {
        "id": "retired-flash"
      },
      "source": [
        "## Import libraries"
      ]
    },
    {
      "cell_type": "markdown",
      "source": [
        "Modificación verificar guardado"
      ],
      "metadata": {
        "id": "FiGh5vb7O2Ys"
      },
      "id": "FiGh5vb7O2Ys"
    },
    {
      "cell_type": "code",
      "source": [
        "!pip install geopandas\n",
        "!pip install earthengine-api"
      ],
      "metadata": {
        "colab": {
          "base_uri": "https://localhost:8080/"
        },
        "id": "D5XAhH5T9Ffj",
        "outputId": "a71f3c53-25a2-49e3-a964-8fe716f77324"
      },
      "id": "D5XAhH5T9Ffj",
      "execution_count": null,
      "outputs": [
        {
          "output_type": "stream",
          "name": "stdout",
          "text": [
            "Collecting geopandas\n",
            "  Downloading geopandas-0.10.2-py2.py3-none-any.whl (1.0 MB)\n",
            "\u001b[K     |████████████████████████████████| 1.0 MB 26.2 MB/s \n",
            "\u001b[?25hCollecting pyproj>=2.2.0\n",
            "  Downloading pyproj-3.2.1-cp37-cp37m-manylinux2010_x86_64.whl (6.3 MB)\n",
            "\u001b[K     |████████████████████████████████| 6.3 MB 53.1 MB/s \n",
            "\u001b[?25hRequirement already satisfied: shapely>=1.6 in /usr/local/lib/python3.7/dist-packages (from geopandas) (1.8.1.post1)\n",
            "Requirement already satisfied: pandas>=0.25.0 in /usr/local/lib/python3.7/dist-packages (from geopandas) (1.3.5)\n",
            "Collecting fiona>=1.8\n",
            "  Downloading Fiona-1.8.21-cp37-cp37m-manylinux2014_x86_64.whl (16.7 MB)\n",
            "\u001b[K     |████████████████████████████████| 16.7 MB 333 kB/s \n",
            "\u001b[?25hRequirement already satisfied: click>=4.0 in /usr/local/lib/python3.7/dist-packages (from fiona>=1.8->geopandas) (7.1.2)\n",
            "Collecting cligj>=0.5\n",
            "  Downloading cligj-0.7.2-py3-none-any.whl (7.1 kB)\n",
            "Requirement already satisfied: six>=1.7 in /usr/local/lib/python3.7/dist-packages (from fiona>=1.8->geopandas) (1.15.0)\n",
            "Collecting click-plugins>=1.0\n",
            "  Downloading click_plugins-1.1.1-py2.py3-none-any.whl (7.5 kB)\n",
            "Requirement already satisfied: setuptools in /usr/local/lib/python3.7/dist-packages (from fiona>=1.8->geopandas) (57.4.0)\n",
            "Requirement already satisfied: attrs>=17 in /usr/local/lib/python3.7/dist-packages (from fiona>=1.8->geopandas) (21.4.0)\n",
            "Collecting munch\n",
            "  Downloading munch-2.5.0-py2.py3-none-any.whl (10 kB)\n",
            "Requirement already satisfied: certifi in /usr/local/lib/python3.7/dist-packages (from fiona>=1.8->geopandas) (2021.10.8)\n",
            "Requirement already satisfied: numpy>=1.17.3 in /usr/local/lib/python3.7/dist-packages (from pandas>=0.25.0->geopandas) (1.21.5)\n",
            "Requirement already satisfied: pytz>=2017.3 in /usr/local/lib/python3.7/dist-packages (from pandas>=0.25.0->geopandas) (2018.9)\n",
            "Requirement already satisfied: python-dateutil>=2.7.3 in /usr/local/lib/python3.7/dist-packages (from pandas>=0.25.0->geopandas) (2.8.2)\n",
            "Installing collected packages: munch, cligj, click-plugins, pyproj, fiona, geopandas\n",
            "Successfully installed click-plugins-1.1.1 cligj-0.7.2 fiona-1.8.21 geopandas-0.10.2 munch-2.5.0 pyproj-3.2.1\n",
            "Requirement already satisfied: earthengine-api in /usr/local/lib/python3.7/dist-packages (0.1.303)\n",
            "Requirement already satisfied: google-api-python-client<2,>=1.12.1 in /usr/local/lib/python3.7/dist-packages (from earthengine-api) (1.12.11)\n",
            "Requirement already satisfied: google-cloud-storage in /usr/local/lib/python3.7/dist-packages (from earthengine-api) (1.18.1)\n",
            "Requirement already satisfied: google-auth>=1.4.1 in /usr/local/lib/python3.7/dist-packages (from earthengine-api) (1.35.0)\n",
            "Requirement already satisfied: httplib2shim in /usr/local/lib/python3.7/dist-packages (from earthengine-api) (0.0.3)\n",
            "Requirement already satisfied: six in /usr/local/lib/python3.7/dist-packages (from earthengine-api) (1.15.0)\n",
            "Requirement already satisfied: google-auth-httplib2>=0.0.3 in /usr/local/lib/python3.7/dist-packages (from earthengine-api) (0.0.4)\n",
            "Requirement already satisfied: httplib2<1dev,>=0.9.2 in /usr/local/lib/python3.7/dist-packages (from earthengine-api) (0.17.4)\n",
            "Requirement already satisfied: future in /usr/local/lib/python3.7/dist-packages (from earthengine-api) (0.16.0)\n",
            "Requirement already satisfied: uritemplate<4dev,>=3.0.0 in /usr/local/lib/python3.7/dist-packages (from google-api-python-client<2,>=1.12.1->earthengine-api) (3.0.1)\n",
            "Requirement already satisfied: google-api-core<3dev,>=1.21.0 in /usr/local/lib/python3.7/dist-packages (from google-api-python-client<2,>=1.12.1->earthengine-api) (1.26.3)\n",
            "Requirement already satisfied: protobuf>=3.12.0 in /usr/local/lib/python3.7/dist-packages (from google-api-core<3dev,>=1.21.0->google-api-python-client<2,>=1.12.1->earthengine-api) (3.17.3)\n",
            "Requirement already satisfied: pytz in /usr/local/lib/python3.7/dist-packages (from google-api-core<3dev,>=1.21.0->google-api-python-client<2,>=1.12.1->earthengine-api) (2018.9)\n",
            "Requirement already satisfied: googleapis-common-protos<2.0dev,>=1.6.0 in /usr/local/lib/python3.7/dist-packages (from google-api-core<3dev,>=1.21.0->google-api-python-client<2,>=1.12.1->earthengine-api) (1.56.0)\n",
            "Requirement already satisfied: setuptools>=40.3.0 in /usr/local/lib/python3.7/dist-packages (from google-api-core<3dev,>=1.21.0->google-api-python-client<2,>=1.12.1->earthengine-api) (57.4.0)\n",
            "Requirement already satisfied: packaging>=14.3 in /usr/local/lib/python3.7/dist-packages (from google-api-core<3dev,>=1.21.0->google-api-python-client<2,>=1.12.1->earthengine-api) (21.3)\n",
            "Requirement already satisfied: requests<3.0.0dev,>=2.18.0 in /usr/local/lib/python3.7/dist-packages (from google-api-core<3dev,>=1.21.0->google-api-python-client<2,>=1.12.1->earthengine-api) (2.23.0)\n",
            "Requirement already satisfied: rsa<5,>=3.1.4 in /usr/local/lib/python3.7/dist-packages (from google-auth>=1.4.1->earthengine-api) (4.8)\n",
            "Requirement already satisfied: pyasn1-modules>=0.2.1 in /usr/local/lib/python3.7/dist-packages (from google-auth>=1.4.1->earthengine-api) (0.2.8)\n",
            "Requirement already satisfied: cachetools<5.0,>=2.0.0 in /usr/local/lib/python3.7/dist-packages (from google-auth>=1.4.1->earthengine-api) (4.2.4)\n",
            "Requirement already satisfied: pyparsing!=3.0.5,>=2.0.2 in /usr/local/lib/python3.7/dist-packages (from packaging>=14.3->google-api-core<3dev,>=1.21.0->google-api-python-client<2,>=1.12.1->earthengine-api) (3.0.7)\n",
            "Requirement already satisfied: pyasn1<0.5.0,>=0.4.6 in /usr/local/lib/python3.7/dist-packages (from pyasn1-modules>=0.2.1->google-auth>=1.4.1->earthengine-api) (0.4.8)\n",
            "Requirement already satisfied: urllib3!=1.25.0,!=1.25.1,<1.26,>=1.21.1 in /usr/local/lib/python3.7/dist-packages (from requests<3.0.0dev,>=2.18.0->google-api-core<3dev,>=1.21.0->google-api-python-client<2,>=1.12.1->earthengine-api) (1.24.3)\n",
            "Requirement already satisfied: idna<3,>=2.5 in /usr/local/lib/python3.7/dist-packages (from requests<3.0.0dev,>=2.18.0->google-api-core<3dev,>=1.21.0->google-api-python-client<2,>=1.12.1->earthengine-api) (2.10)\n",
            "Requirement already satisfied: chardet<4,>=3.0.2 in /usr/local/lib/python3.7/dist-packages (from requests<3.0.0dev,>=2.18.0->google-api-core<3dev,>=1.21.0->google-api-python-client<2,>=1.12.1->earthengine-api) (3.0.4)\n",
            "Requirement already satisfied: certifi>=2017.4.17 in /usr/local/lib/python3.7/dist-packages (from requests<3.0.0dev,>=2.18.0->google-api-core<3dev,>=1.21.0->google-api-python-client<2,>=1.12.1->earthengine-api) (2021.10.8)\n",
            "Requirement already satisfied: google-cloud-core<2.0dev,>=1.0.0 in /usr/local/lib/python3.7/dist-packages (from google-cloud-storage->earthengine-api) (1.0.3)\n",
            "Requirement already satisfied: google-resumable-media<0.5.0dev,>=0.3.1 in /usr/local/lib/python3.7/dist-packages (from google-cloud-storage->earthengine-api) (0.4.1)\n"
          ]
        }
      ]
    },
    {
      "cell_type": "code",
      "execution_count": null,
      "id": "racial-likelihood",
      "metadata": {
        "id": "racial-likelihood"
      },
      "outputs": [],
      "source": [
        "# the regulars\n",
        "import pandas as pd\n",
        "import geopandas as gpd\n",
        "\n",
        "# earth engine\n",
        "import ee\n",
        "\n",
        "# allow images to display in the notebook\n",
        "from IPython.display import Image"
      ]
    },
    {
      "cell_type": "markdown",
      "id": "otherwise-figure",
      "metadata": {
        "id": "otherwise-figure"
      },
      "source": [
        "## Authenticate Earth Engine"
      ]
    },
    {
      "cell_type": "code",
      "execution_count": null,
      "id": "existing-generic",
      "metadata": {
        "id": "existing-generic"
      },
      "outputs": [],
      "source": [
        "# Trigger the authentication flow.\n",
        "ee.Authenticate()\n",
        "\n",
        "# Initialize the library.\n",
        "ee.Initialize()"
      ]
    },
    {
      "cell_type": "markdown",
      "id": "returning-bracket",
      "metadata": {
        "id": "returning-bracket"
      },
      "source": [
        "For this lab, we will use Google Earth Engine's \"USGS Landsat 8 Level 2, Collection 2, Tier 1\"\n",
        "\n",
        "- [EE Landsat 8](https://developers.google.com/earth-engine/datasets/catalog/LANDSAT_LC08_C02_T1_L2)\n",
        "\n",
        "You can also:\n",
        "\n",
        "- `.filterBounds()` method allows you to filter by location\n",
        "- `.filterDate()` allows you to filter by date"
      ]
    },
    {
      "cell_type": "markdown",
      "id": "seventh-theme",
      "metadata": {
        "id": "seventh-theme"
      },
      "source": [
        "## Define filters"
      ]
    },
    {
      "cell_type": "code",
      "execution_count": null,
      "id": "legitimate-phrase",
      "metadata": {
        "id": "legitimate-phrase"
      },
      "outputs": [],
      "source": [
        "# coordinates of the Camp Fire\n",
        "lat =  39.444012\n",
        "lon = -121.833619\n",
        "\n",
        "# point of interest as an ee.Geometry\n",
        "poi = ee.Geometry.Point(lon,lat)\n",
        "\n",
        "# start date of range to filter for\n",
        "start_date = '2018-10-01'\n",
        "\n",
        "# end date\n",
        "end_date = '2019-01-31'"
      ]
    },
    {
      "cell_type": "markdown",
      "id": "reverse-immune",
      "metadata": {
        "id": "reverse-immune"
      },
      "source": [
        "## Get Landsat 8 data"
      ]
    },
    {
      "cell_type": "code",
      "execution_count": null,
      "id": "30ff58b6-e303-4f3a-93fe-0f54993d3b04",
      "metadata": {
        "id": "30ff58b6-e303-4f3a-93fe-0f54993d3b04"
      },
      "outputs": [],
      "source": [
        "# get the satellite data\n",
        "landsat = ee.ImageCollection(\"LANDSAT/LC08/C02/T1_L2\")\\\n",
        "            .filterBounds(poi)\\\n",
        "            .filterDate(start_date,end_date)"
      ]
    },
    {
      "cell_type": "code",
      "execution_count": null,
      "id": "invisible-amplifier",
      "metadata": {
        "id": "invisible-amplifier"
      },
      "outputs": [],
      "source": [
        "# how many images did we get?\n",
        "print('Total number:', landsat.size().getInfo())"
      ]
    },
    {
      "cell_type": "code",
      "execution_count": null,
      "id": "jewish-dakota",
      "metadata": {
        "id": "jewish-dakota"
      },
      "outputs": [],
      "source": [
        "# information about the first image in our collection\n",
        "landsat.first().getInfo()"
      ]
    },
    {
      "cell_type": "code",
      "execution_count": null,
      "id": "velvet-transport",
      "metadata": {
        "id": "velvet-transport"
      },
      "outputs": [],
      "source": [
        "# what about cloud cover of our first image?\n",
        "landsat.first().get('CLOUD_COVER').getInfo()"
      ]
    },
    {
      "cell_type": "code",
      "execution_count": null,
      "id": "cbddaf7e",
      "metadata": {
        "id": "cbddaf7e"
      },
      "outputs": [],
      "source": [
        "# when was this image taken?\n",
        "landsat.first().get('DATE_ACQUIRED').getInfo()"
      ]
    },
    {
      "cell_type": "markdown",
      "id": "70a9a68e",
      "metadata": {
        "id": "70a9a68e"
      },
      "source": [
        "## Bands\n",
        "<img src=\"https://prd-wret.s3.us-west-2.amazonaws.com/assets/palladium/production/s3fs-public/thumbnails/image/Landsat%208%20band%20designations.jpg\" width=800>\n",
        "\n",
        "[Source: USGS](https://www.usgs.gov/media/images/landsat-8-band-designations)\n"
      ]
    },
    {
      "cell_type": "markdown",
      "id": "ranking-architecture",
      "metadata": {
        "id": "ranking-architecture"
      },
      "source": [
        "<img src=\"https://github.com/yohman/workshop-remote-sensing/blob/main/images/bands.jpg?raw=1\" width=1000>\n",
        "\n",
        "[Source: Satellite Imaging Corporation](https://www.satimagingcorp.com/satellite-sensors/worldview-3/)"
      ]
    },
    {
      "cell_type": "code",
      "execution_count": null,
      "id": "surprising-bleeding",
      "metadata": {
        "id": "surprising-bleeding"
      },
      "outputs": [],
      "source": [
        "# what bands did we get?\n",
        "landsat.first().bandNames().getInfo()"
      ]
    },
    {
      "cell_type": "code",
      "execution_count": null,
      "id": "inclusive-blame",
      "metadata": {
        "id": "inclusive-blame"
      },
      "outputs": [],
      "source": [
        "# put the images in a list\n",
        "landsat_list = landsat.toList(landsat.size());"
      ]
    },
    {
      "cell_type": "markdown",
      "id": "compact-childhood",
      "metadata": {
        "id": "compact-childhood"
      },
      "source": [
        "## Display satellite image\n",
        "\n",
        "- [What are the min/max values?](https://gis.stackexchange.com/questions/304180/what-are-the-min-and-max-values-of-map-addlayer-on-google-earth-engine)"
      ]
    },
    {
      "cell_type": "code",
      "execution_count": null,
      "id": "recreational-feeding",
      "metadata": {
        "id": "recreational-feeding"
      },
      "outputs": [],
      "source": [
        "# set some parameters for the images\n",
        "parameters = {\n",
        "                'min': 7000,\n",
        "                'max': 16000,\n",
        "                'dimensions': 800, # square size in pixels\n",
        "                'bands': ['SR_B4', 'SR_B3', 'SR_B2'] # bands to display (r,g,b)\n",
        "             }"
      ]
    },
    {
      "cell_type": "code",
      "execution_count": null,
      "id": "subject-mongolia",
      "metadata": {
        "scrolled": true,
        "tags": [],
        "id": "subject-mongolia"
      },
      "outputs": [],
      "source": [
        "# create an empty data container\n",
        "data = []\n",
        "\n",
        "# loop through each image and display it\n",
        "for i in range(landsat.size().getInfo()):\n",
        "\n",
        "    # when was this image taken?\n",
        "    date = ee.Image(landsat_list.get(i)).get('DATE_ACQUIRED').getInfo()\n",
        "    \n",
        "    # cloud cover\n",
        "    cloud = ee.Image(landsat_list.get(i)).get('CLOUD_COVER').getInfo()\n",
        "    \n",
        "    # print the image info\n",
        "    print('Image #',i,date,'Cloud cover:',cloud)\n",
        "    \n",
        "    # display the image\n",
        "    display(Image(url = ee.Image(landsat_list.get(i)).getThumbUrl(parameters)))\n",
        "\n",
        "    # data to list\n",
        "    this_data = [i,date,cloud]\n",
        "\n",
        "    # append the data \n",
        "    data.append(this_data)\n",
        "    \n",
        "\n",
        "# Create the pandas DataFrame\n",
        "df = pd.DataFrame(data, columns = ['Image #', 'Date', 'Cloud Cover'])"
      ]
    },
    {
      "cell_type": "code",
      "execution_count": null,
      "id": "8acb0b6f",
      "metadata": {
        "id": "8acb0b6f"
      },
      "outputs": [],
      "source": [
        "# our data in a dataframe\n",
        "df"
      ]
    },
    {
      "cell_type": "markdown",
      "id": "parliamentary-correspondence",
      "metadata": {
        "id": "parliamentary-correspondence"
      },
      "source": [
        "## Selecting images, zooming in\n",
        "Now that we have inspected our collection of images, we can pick and choose which ones are relevant for our study. Ideally, we want to have images for before and after the fire to be able to assess the level of damage.\n",
        "\n",
        "We also want to create an ROI (region of interest) and zoom in to the area of interest. We do so by appying a 20km buffer around our POI."
      ]
    },
    {
      "cell_type": "code",
      "execution_count": null,
      "id": "blank-professional",
      "metadata": {
        "id": "blank-professional"
      },
      "outputs": [],
      "source": [
        "# create a list of images we want (before, during, after)\n",
        "landsat_sequence = [0,2,5]"
      ]
    },
    {
      "cell_type": "code",
      "execution_count": null,
      "id": "acceptable-tribe",
      "metadata": {
        "id": "acceptable-tribe"
      },
      "outputs": [],
      "source": [
        "# Define a region of interest with a buffer zone of 20 km\n",
        "roi = poi.buffer(20000) # meters"
      ]
    },
    {
      "cell_type": "code",
      "execution_count": null,
      "id": "played-definition",
      "metadata": {
        "id": "played-definition"
      },
      "outputs": [],
      "source": [
        "parameters = {\n",
        "                'min': 6000,\n",
        "                'max': 16000,\n",
        "                'dimensions': 800,\n",
        "                'bands': ['SR_B4', 'SR_B3', 'SR_B2'],\n",
        "                'region':roi\n",
        "             }"
      ]
    },
    {
      "cell_type": "code",
      "execution_count": null,
      "id": "graduate-consent",
      "metadata": {
        "scrolled": true,
        "tags": [],
        "id": "graduate-consent"
      },
      "outputs": [],
      "source": [
        "for i in landsat_sequence:\n",
        "    \n",
        "    # when was this image taken?\n",
        "    date = ee.Image(landsat_list.get(i)).get('DATE_ACQUIRED').getInfo()\n",
        "\n",
        "    # cloud cover\n",
        "    cloud = ee.Image(landsat_list.get(i)).get('CLOUD_COVER').getInfo()\n",
        "    \n",
        "    print('Image #',i,date,'Cloud cover:',cloud)\n",
        "    \n",
        "    display(Image(url = ee.Image(landsat_list.get(i)).getThumbUrl(parameters)))"
      ]
    },
    {
      "cell_type": "markdown",
      "id": "abstract-sound",
      "metadata": {
        "id": "abstract-sound"
      },
      "source": [
        "<div class=\"alert alert-info\">\n",
        "Take a moment to inspect the three images above. What do they tell you? What do they NOT tell you?\n",
        "</div>"
      ]
    },
    {
      "cell_type": "markdown",
      "id": "increasing-rebel",
      "metadata": {
        "id": "increasing-rebel"
      },
      "source": [
        "## Normalized Difference Vegetation Index (NDVI)\n",
        "\n",
        "The normalized difference vegetation index (NDVI) is a simple graphical indicator that can be used to analyze remote sensing measurements, often from a space platform, assessing whether or not the target being observed contains live green vegetation.\n",
        "\n",
        "<img src=\"https://github.com/yohman/workshop-remote-sensing/blob/main/images/ndvi.png?raw=1\" width=600>\n",
        "\n",
        "- [Source: Agricolus](https://www.agricolus.com/en/vegetation-indices-ndvi-ndmi/)"
      ]
    },
    {
      "cell_type": "markdown",
      "id": "a6272a99",
      "metadata": {
        "id": "a6272a99"
      },
      "source": [
        "### Calculating NDVI in Google Earth Engine\n",
        "\n",
        "- https://developers.google.com/earth-engine/tutorials/tutorial_api_06"
      ]
    },
    {
      "cell_type": "code",
      "execution_count": null,
      "id": "surprised-elder",
      "metadata": {
        "id": "surprised-elder"
      },
      "outputs": [],
      "source": [
        "# ndvi palette: red is low, green is high vegetation\n",
        "palette = ['red', 'yellow', 'green']\n",
        "\n",
        "ndvi_parameters = {'min': 0,\n",
        "                   'max': 0.4,\n",
        "                   'dimensions': 512,\n",
        "                   'palette': palette,\n",
        "                   'region': roi}"
      ]
    },
    {
      "cell_type": "code",
      "execution_count": null,
      "id": "reasonable-stroke",
      "metadata": {
        "scrolled": true,
        "tags": [],
        "id": "reasonable-stroke"
      },
      "outputs": [],
      "source": [
        "for i in landsat_sequence:\n",
        "\n",
        "    # when was this image taken?\n",
        "    date = ee.Image(landsat_list.get(i)).get('DATE_ACQUIRED').getInfo()\n",
        "    \n",
        "    # print some information\n",
        "    print('Image #',i,date)\n",
        "    \n",
        "    # display the image\n",
        "    display(Image(url=ee.Image(landsat_list.get(i)).normalizedDifference(['SR_B5', 'SR_B4']).getThumbUrl(ndvi_parameters)))"
      ]
    },
    {
      "cell_type": "markdown",
      "id": "exceptional-elimination",
      "metadata": {
        "tags": [],
        "id": "exceptional-elimination"
      },
      "source": [
        "## Folium\n",
        "\n",
        "Of course, we can't end the lab without an interactive map. For this, we can use [folium](https://python-visualization.github.io/folium/quickstart.html), which uses the open-source javascript mapping library [leaflet](https://leafletjs.com/).\n",
        "\n",
        "- https://python-visualization.github.io/folium/quickstart.html"
      ]
    },
    {
      "cell_type": "markdown",
      "id": "b9e946d8",
      "metadata": {
        "id": "b9e946d8"
      },
      "source": [
        "Google earth engine works with folium:\n",
        "- https://developers.google.com/earth-engine/tutorials/community/intro-to-python-api-guiattard?hl=en#interactive_mapping_using_folium"
      ]
    },
    {
      "cell_type": "code",
      "execution_count": null,
      "id": "8782e4cc-0007-4542-92c0-7f33486fab4c",
      "metadata": {
        "id": "8782e4cc-0007-4542-92c0-7f33486fab4c"
      },
      "outputs": [],
      "source": [
        "# a simple folium map\n",
        "import folium\n",
        "\n",
        "m = folium.Map(location=[lat,lon])\n",
        "m"
      ]
    },
    {
      "cell_type": "code",
      "execution_count": null,
      "id": "hearing-shakespeare",
      "metadata": {
        "id": "hearing-shakespeare"
      },
      "outputs": [],
      "source": [
        "# Google function that allows ee layers on folium\n",
        "def add_ee_layer(self, ee_image_object, vis_params, name):\n",
        "    \"\"\"Adds a method for displaying Earth Engine image tiles to folium map.\"\"\"\n",
        "    map_id_dict = ee.Image(ee_image_object).getMapId(vis_params)\n",
        "    folium.raster_layers.TileLayer(\n",
        "        tiles=map_id_dict['tile_fetcher'].url_format,\n",
        "        attr='Map Data &copy; <a href=\"https://earthengine.google.com/\">Google Earth Engine</a>',\n",
        "        name=name,\n",
        "        overlay=True,\n",
        "        control=True\n",
        "    ).add_to(self)\n",
        "\n",
        "# Add Earth Engine drawing method to folium\n",
        "folium.Map.add_ee_layer = add_ee_layer"
      ]
    },
    {
      "cell_type": "code",
      "execution_count": null,
      "id": "breeding-composer",
      "metadata": {
        "id": "breeding-composer"
      },
      "outputs": [],
      "source": [
        "# Create a map\n",
        "my_map = folium.Map(location=[lat, lon], zoom_start=10)\n",
        "\n",
        "# Add a layer for each satellite image of interest (before, during and after)\n",
        "for i in landsat_sequence:\n",
        "\n",
        "    # when was this image taken?\n",
        "    date = ee.Image(landsat_list.get(i)).get('DATE_ACQUIRED').getInfo()\n",
        "\n",
        "    my_map.add_ee_layer(ee.Image(landsat_list.get(i)).normalizedDifference(['SR_B5', 'SR_B4']), \n",
        "                        ndvi_parameters, \n",
        "                        name=date)\n",
        "    \n",
        "# Add a layer control panel to the map\n",
        "folium.LayerControl(collapsed = False).add_to(my_map)\n",
        "\n",
        "# Display the map.\n",
        "display(my_map)"
      ]
    },
    {
      "cell_type": "markdown",
      "id": "surgical-schema",
      "metadata": {
        "id": "surgical-schema"
      },
      "source": [
        "## Save the folium map as an html file"
      ]
    },
    {
      "cell_type": "code",
      "execution_count": null,
      "id": "similar-effects",
      "metadata": {
        "id": "similar-effects"
      },
      "outputs": [],
      "source": [
        "my_map.save('camp.html')"
      ]
    },
    {
      "cell_type": "markdown",
      "id": "89ac4f93",
      "metadata": {
        "id": "89ac4f93"
      },
      "source": [
        "## Evaluation\n",
        "\n",
        "<img src=\"https://github.com/yohman/workshop-remote-sensing/blob/main/images/yoh.png?raw=1\">\n",
        "A big thank you to all of you who have come today. Please take a moment to fill this survey, as we always want to hear from you.\n",
        "\n",
        "https://docs.google.com/forms/d/e/1FAIpQLSdVTXFIt4-8c6NQGJc_qORMKIzEmvmBKWFTgU7Ek6AZEq3Xww/viewform\n"
      ]
    },
    {
      "cell_type": "markdown",
      "id": "specialized-dallas",
      "metadata": {
        "id": "specialized-dallas"
      },
      "source": [
        "# Resources\n",
        "\n",
        "- [Google's Python Tutorial](https://developers.google.com/earth-engine/tutorials/community/intro-to-python-api-guiattard)\n",
        "- [Earth Lab](https://www.earthdatascience.org/courses/use-data-open-source-python/multispectral-remote-sensing/landsat-in-Python/)\n",
        "    "
      ]
    }
  ],
  "metadata": {
    "celltoolbar": "Slideshow",
    "kernelspec": {
      "display_name": "Python 3 (ipykernel)",
      "language": "python",
      "name": "python3"
    },
    "language_info": {
      "codemirror_mode": {
        "name": "ipython",
        "version": 3
      },
      "file_extension": ".py",
      "mimetype": "text/x-python",
      "name": "python",
      "nbconvert_exporter": "python",
      "pygments_lexer": "ipython3",
      "version": "3.9.6"
    },
    "toc": {
      "base_numbering": 1,
      "nav_menu": {},
      "number_sections": true,
      "sideBar": true,
      "skip_h1_title": false,
      "title_cell": "Table of Contents",
      "title_sidebar": "Contents",
      "toc_cell": false,
      "toc_position": {
        "height": "calc(100% - 180px)",
        "left": "10px",
        "top": "150px",
        "width": "271.188px"
      },
      "toc_section_display": true,
      "toc_window_display": false
    },
    "colab": {
      "name": "Remote Sensing Camp.ipynb",
      "provenance": [],
      "include_colab_link": true
    }
  },
  "nbformat": 4,
  "nbformat_minor": 5
}